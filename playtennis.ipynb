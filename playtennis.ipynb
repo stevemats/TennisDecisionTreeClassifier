{
 "cells": [
  {
   "cell_type": "markdown",
   "id": "50e624ec",
   "metadata": {
    "id": "3d0315f6"
   },
   "source": [
    "<center>GROUP K - Data Mining Étudiants</center>"
   ]
  },
  {
   "cell_type": "code",
   "execution_count": null,
   "id": "dc57ad71",
   "metadata": {
    "id": "dc57ad71"
   },
   "outputs": [],
   "source": [
    "import pandas as pd"
   ]
  },
  {
   "cell_type": "code",
   "execution_count": null,
   "id": "a5d47a2f",
   "metadata": {
    "id": "a5d47a2f"
   },
   "outputs": [],
   "source": [
    "import graphviz"
   ]
  },
  {
   "cell_type": "code",
   "execution_count": null,
   "id": "2dcefa18",
   "metadata": {
    "id": "2dcefa18"
   },
   "outputs": [],
   "source": [
    "from sklearn.model_selection import train_test_split"
   ]
  },
  {
   "cell_type": "code",
   "execution_count": null,
   "id": "10aec407",
   "metadata": {
    "id": "10aec407"
   },
   "outputs": [],
   "source": [
    "from sklearn.tree import DecisionTreeClassifier, export_graphviz"
   ]
  },
  {
   "cell_type": "code",
   "execution_count": null,
   "id": "7f4f1d12",
   "metadata": {
    "id": "7f4f1d12"
   },
   "outputs": [],
   "source": [
    "from sklearn.metrics import accuracy_score"
   ]
  },
  {
   "cell_type": "code",
   "execution_count": null,
   "id": "095a8a97",
   "metadata": {
    "id": "095a8a97"
   },
   "outputs": [],
   "source": []
  },
  {
   "cell_type": "markdown",
   "id": "5b5f6695",
   "metadata": {
    "id": "5b5f6695"
   },
   "source": [
    "### playtennis data loading"
   ]
  },
  {
   "cell_type": "code",
   "execution_count": null,
   "id": "f6dda677",
   "metadata": {
    "id": "f6dda677"
   },
   "outputs": [],
   "source": [
    "data = pd.read_csv('data/playtennis.csv')"
   ]
  },
  {
   "cell_type": "code",
   "execution_count": null,
   "id": "77378645",
   "metadata": {
    "id": "77378645"
   },
   "outputs": [],
   "source": []
  },
  {
   "cell_type": "markdown",
   "id": "5d257acc",
   "metadata": {
    "id": "5d257acc"
   },
   "source": [
    "### Splitting the data into features & target"
   ]
  },
  {
   "cell_type": "code",
   "execution_count": null,
   "id": "1f2f5a59",
   "metadata": {
    "id": "1f2f5a59"
   },
   "outputs": [],
   "source": [
    "X = data.drop('PlayTennis', axis=1)"
   ]
  },
  {
   "cell_type": "code",
   "execution_count": null,
   "id": "ecd0e618",
   "metadata": {
    "id": "ecd0e618"
   },
   "outputs": [],
   "source": [
    "y = data['PlayTennis']"
   ]
  },
  {
   "cell_type": "code",
   "execution_count": null,
   "id": "acd96cb5",
   "metadata": {
    "id": "acd96cb5"
   },
   "outputs": [],
   "source": []
  },
  {
   "cell_type": "markdown",
   "id": "559d118c",
   "metadata": {
    "id": "559d118c"
   },
   "source": [
    "### categorical vars to num convertion while avoidin' multicollinearity"
   ]
  },
  {
   "cell_type": "code",
   "execution_count": null,
   "id": "1958c221",
   "metadata": {
    "id": "1958c221"
   },
   "outputs": [],
   "source": [
    "data_encoded = pd.get_dummies(data, drop_first=True)"
   ]
  },
  {
   "cell_type": "code",
   "execution_count": null,
   "id": "2f87dd1c",
   "metadata": {
    "id": "2f87dd1c"
   },
   "outputs": [],
   "source": []
  },
  {
   "cell_type": "markdown",
   "id": "d10aafd2",
   "metadata": {
    "id": "d10aafd2"
   },
   "source": [
    "### Split the data into features and target"
   ]
  },
  {
   "cell_type": "code",
   "execution_count": null,
   "id": "a46d14fd",
   "metadata": {
    "id": "a46d14fd"
   },
   "outputs": [],
   "source": [
    "X = data_encoded.drop('PlayTennis_Yes', axis=1)"
   ]
  },
  {
   "cell_type": "code",
   "execution_count": null,
   "id": "c39028d7",
   "metadata": {
    "id": "c39028d7"
   },
   "outputs": [],
   "source": [
    "y = data_encoded['PlayTennis_Yes']"
   ]
  },
  {
   "cell_type": "markdown",
   "id": "e200dc54",
   "metadata": {
    "id": "e200dc54"
   },
   "source": [
    "### data splitting(training & tests sets)"
   ]
  },
  {
   "cell_type": "code",
   "execution_count": null,
   "id": "dfd37043",
   "metadata": {
    "id": "dfd37043"
   },
   "outputs": [],
   "source": [
    "X_train, X_test, y_train, y_test = train_test_split(X, y, test_size=0.2, random_state=42)"
   ]
  },
  {
   "cell_type": "code",
   "execution_count": null,
   "id": "c37ceed6",
   "metadata": {
    "id": "c37ceed6"
   },
   "outputs": [],
   "source": []
  },
  {
   "cell_type": "markdown",
   "id": "6b43e1df",
   "metadata": {
    "id": "6b43e1df"
   },
   "source": [
    "### now creating a D.T classifier"
   ]
  },
  {
   "cell_type": "code",
   "execution_count": null,
   "id": "9a72d27a",
   "metadata": {
    "id": "9a72d27a"
   },
   "outputs": [],
   "source": [
    "classifier = DecisionTreeClassifier()"
   ]
  },
  {
   "cell_type": "code",
   "execution_count": null,
   "id": "7bdb63f0",
   "metadata": {
    "id": "7bdb63f0"
   },
   "outputs": [],
   "source": []
  },
  {
   "cell_type": "markdown",
   "id": "3e96ab54",
   "metadata": {
    "id": "3e96ab54"
   },
   "source": [
    "### Classifier training based on training data"
   ]
  },
  {
   "cell_type": "code",
   "execution_count": null,
   "id": "2d8418a0",
   "metadata": {
    "colab": {
     "base_uri": "https://localhost:8080/",
     "height": 74
    },
    "id": "2d8418a0",
    "outputId": "cdb0f299-27f5-47b3-a800-ca2dfec9745c"
   },
   "outputs": [],
   "source": [
    "classifier.fit(X_train, y_train)"
   ]
  },
  {
   "cell_type": "code",
   "execution_count": null,
   "id": "9043ed8d",
   "metadata": {
    "id": "9043ed8d"
   },
   "outputs": [],
   "source": [
    "y_pred = classifier.predict(X_test)"
   ]
  },
  {
   "cell_type": "code",
   "execution_count": null,
   "id": "a996ab39",
   "metadata": {
    "id": "a996ab39"
   },
   "outputs": [],
   "source": []
  },
  {
   "cell_type": "markdown",
   "id": "de30ab52",
   "metadata": {
    "id": "de30ab52"
   },
   "source": [
    "### classifier accuracy score"
   ]
  },
  {
   "cell_type": "code",
   "execution_count": null,
   "id": "dd4bfe43",
   "metadata": {
    "id": "dd4bfe43"
   },
   "outputs": [],
   "source": [
    "accuracy = accuracy_score(y_test, y_pred)"
   ]
  },
  {
   "cell_type": "code",
   "execution_count": null,
   "id": "efd64d1c",
   "metadata": {
    "colab": {
     "base_uri": "https://localhost:8080/"
    },
    "id": "efd64d1c",
    "outputId": "e218337b-13f7-4209-d87a-ef6cde43b55d"
   },
   "outputs": [],
   "source": [
    "print('Accuracy:', accuracy)"
   ]
  },
  {
   "cell_type": "code",
   "execution_count": null,
   "id": "4e8ca9cb",
   "metadata": {
    "id": "4e8ca9cb"
   },
   "outputs": [],
   "source": []
  },
  {
   "cell_type": "markdown",
   "id": "8d5bd6f6",
   "metadata": {
    "id": "8d5bd6f6"
   },
   "source": [
    "### Visualize the decision tree"
   ]
  },
  {
   "cell_type": "code",
   "execution_count": null,
   "id": "4c58b213",
   "metadata": {
    "id": "4c58b213"
   },
   "outputs": [],
   "source": [
    "dot_data = export_graphviz(classifier, out_file=None, feature_names=X.columns, class_names=['No', 'Yes'], filled=True)"
   ]
  },
  {
   "cell_type": "code",
   "execution_count": null,
   "id": "05b44044",
   "metadata": {
    "id": "05b44044"
   },
   "outputs": [],
   "source": [
    "graph = graphviz.Source(dot_data)"
   ]
  },
  {
   "cell_type": "code",
   "execution_count": null,
   "id": "fe16c350",
   "metadata": {
    "colab": {
     "base_uri": "https://localhost:8080/",
     "height": 35
    },
    "id": "fe16c350",
    "outputId": "63dcfa10-90c1-4c99-9ebf-d6b8d56558cc"
   },
   "outputs": [],
   "source": [
    "graph.render('decision_tree', format='png')"
   ]
  }
 ],
 "metadata": {
  "colab": {
   "provenance": []
  },
  "kernelspec": {
   "display_name": "Python 3",
   "language": "python",
   "name": "python3"
  },
  "language_info": {
   "codemirror_mode": {
    "name": "ipython",
    "version": 3
   },
   "file_extension": ".py",
   "mimetype": "text/x-python",
   "name": "python",
   "nbconvert_exporter": "python",
   "pygments_lexer": "ipython3",
   "version": "3.8.8"
  }
 },
 "nbformat": 4,
 "nbformat_minor": 5
}
